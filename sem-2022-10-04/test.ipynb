{
 "cells": [
  {
   "cell_type": "code",
   "execution_count": 18,
   "metadata": {
    "vscode": {
     "languageId": "csharp"
    }
   },
   "outputs": [],
   "source": [
    "// Solution: hse - sem-2022-10-04 - test.ipynb\n",
    "// Created at 2022-10-04 19:01\n",
    "// Author: Черных Владимир Артемович\n",
    "// Group: БПИ229"
   ]
  },
  {
   "cell_type": "code",
   "execution_count": 2,
   "metadata": {
    "vscode": {
     "languageId": "csharp"
    }
   },
   "outputs": [],
   "source": [
    "#r \"/Users/vova/Documents/2022-2023/c#/hse/sem-2022-10-04/bin/Debug/net6.0/sem-2022-10-04.dll\""
   ]
  },
  {
   "cell_type": "code",
   "execution_count": 3,
   "metadata": {
    "vscode": {
     "languageId": "csharp"
    }
   },
   "outputs": [],
   "source": [
    "using sem_2022_10_04;"
   ]
  },
  {
   "cell_type": "markdown",
   "metadata": {},
   "source": [
    "# Создадим DataFrame"
   ]
  },
  {
   "cell_type": "code",
   "execution_count": 4,
   "metadata": {
    "vscode": {
     "languageId": "csharp"
    }
   },
   "outputs": [],
   "source": [
    "var a = new DataFrame(new Dictionary<string, List<object>>\n",
    "{\n",
    "    {\n",
    "        \"Status\", new List<object> { \"ok\", \"botva\", \"botva\", \"qwerty\" }\n",
    "    },\n",
    "    {\n",
    "        \"Num\", new List<object> { -10, 20, -30, 40 }\n",
    "    },\n",
    "    {\n",
    "        \"Num2\", new List<object> { 10, -20, -30, 40 }\n",
    "    }\n",
    "});\n"
   ]
  },
  {
   "cell_type": "code",
   "execution_count": 5,
   "metadata": {
    "vscode": {
     "languageId": "csharp"
    }
   },
   "outputs": [
    {
     "name": "stdout",
     "output_type": "stream",
     "text": [
      "Status  Num  Num2  \n",
      "ok      -10  10    \n",
      "botva   20   -20   \n",
      "botva   -30  -30   \n",
      "qwerty  40   40    \n",
      "\n"
     ]
    }
   ],
   "source": [
    "Console.WriteLine(a)"
   ]
  },
  {
   "cell_type": "code",
   "execution_count": 6,
   "metadata": {
    "vscode": {
     "languageId": "csharp"
    }
   },
   "outputs": [],
   "source": [
    "a[\"Float\"] =  new DataFrameColumn(new List<object> { 0.1, -2.5, 3.33, 179.57 });"
   ]
  },
  {
   "cell_type": "code",
   "execution_count": 7,
   "metadata": {
    "vscode": {
     "languageId": "csharp"
    }
   },
   "outputs": [
    {
     "name": "stdout",
     "output_type": "stream",
     "text": [
      "Status  Num  Num2  Float   \n",
      "ok      -10  10    0,1     \n",
      "botva   20   -20   -2,5    \n",
      "botva   -30  -30   3,33    \n",
      "qwerty  40   40    179,57  \n",
      "\n"
     ]
    }
   ],
   "source": [
    "Console.WriteLine(a)"
   ]
  },
  {
   "cell_type": "markdown",
   "metadata": {},
   "source": [
    "# Поля"
   ]
  },
  {
   "cell_type": "code",
   "execution_count": 8,
   "metadata": {
    "vscode": {
     "languageId": "csharp"
    }
   },
   "outputs": [
    {
     "data": {
      "text/html": [
       "<table><thead><tr><th><i>index</i></th><th>value</th></tr></thead><tbody><tr><td>0</td><td>Status</td></tr><tr><td>1</td><td>Num</td></tr><tr><td>2</td><td>Num2</td></tr><tr><td>3</td><td>Float</td></tr></tbody></table>"
      ]
     },
     "execution_count": 8,
     "metadata": {},
     "output_type": "execute_result"
    }
   ],
   "source": [
    "a.Columns"
   ]
  },
  {
   "cell_type": "code",
   "execution_count": 9,
   "metadata": {
    "vscode": {
     "languageId": "csharp"
    }
   },
   "outputs": [
    {
     "data": {
      "text/html": [
       "<table><thead><tr><th>Item1</th><th>Item2</th></tr></thead><tbody><tr><td><div class=\"dni-plaintext\">4</div></td><td><div class=\"dni-plaintext\">4</div></td></tr></tbody></table>"
      ]
     },
     "execution_count": 9,
     "metadata": {},
     "output_type": "execute_result"
    }
   ],
   "source": [
    "a.Shape"
   ]
  },
  {
   "cell_type": "markdown",
   "metadata": {},
   "source": [
    "# Индексация"
   ]
  },
  {
   "cell_type": "code",
   "execution_count": 10,
   "metadata": {
    "vscode": {
     "languageId": "csharp"
    }
   },
   "outputs": [
    {
     "name": "stdout",
     "output_type": "stream",
     "text": [
      "Status: [\"ok\",\"botva\",\"botva\",\"qwerty\"]\n"
     ]
    }
   ],
   "source": [
    "Console.WriteLine(a[\"Status\"])"
   ]
  },
  {
   "cell_type": "code",
   "execution_count": 11,
   "metadata": {
    "vscode": {
     "languageId": "csharp"
    }
   },
   "outputs": [
    {
     "name": "stdout",
     "output_type": "stream",
     "text": [
      "qwerty\n"
     ]
    }
   ],
   "source": [
    "Console.WriteLine(a[\"Status\", 3])"
   ]
  },
  {
   "cell_type": "code",
   "execution_count": 12,
   "metadata": {
    "vscode": {
     "languageId": "csharp"
    }
   },
   "outputs": [
    {
     "name": "stdout",
     "output_type": "stream",
     "text": [
      "qwerty\n"
     ]
    }
   ],
   "source": [
    "Console.WriteLine(a[\"Status\"][3])"
   ]
  },
  {
   "cell_type": "markdown",
   "metadata": {},
   "source": [
    "# Фильтры"
   ]
  },
  {
   "cell_type": "code",
   "execution_count": 13,
   "metadata": {
    "vscode": {
     "languageId": "csharp"
    }
   },
   "outputs": [
    {
     "data": {
      "text/html": [
       "<table><thead><tr><th>len</th><th>_mask</th></tr></thead><tbody><tr><td><div class=\"dni-plaintext\">4</div></td><td><div class=\"dni-plaintext\">[ False, True, True, False ]</div></td></tr></tbody></table>"
      ]
     },
     "execution_count": 13,
     "metadata": {},
     "output_type": "execute_result"
    }
   ],
   "source": [
    "a[\"Status\"] == \"botva\""
   ]
  },
  {
   "cell_type": "code",
   "execution_count": 14,
   "metadata": {
    "vscode": {
     "languageId": "csharp"
    }
   },
   "outputs": [
    {
     "name": "stdout",
     "output_type": "stream",
     "text": [
      "Status  Num  Num2  Float  \n",
      "botva   20   -20   -2,5   \n",
      "botva   -30  -30   3,33   \n",
      "\n"
     ]
    }
   ],
   "source": [
    "Console.WriteLine(a[a[\"Status\"] == \"botva\"])"
   ]
  },
  {
   "cell_type": "code",
   "execution_count": 15,
   "metadata": {
    "vscode": {
     "languageId": "csharp"
    }
   },
   "outputs": [
    {
     "name": "stdout",
     "output_type": "stream",
     "text": [
      "Status  Num  Num2  Float   \n",
      "botva   20   -20   -2,5    \n",
      "qwerty  40   40    179,57  \n",
      "\n"
     ]
    }
   ],
   "source": [
    "Console.WriteLine(a[a[\"Num\"] > 0])"
   ]
  },
  {
   "cell_type": "code",
   "execution_count": 16,
   "metadata": {
    "vscode": {
     "languageId": "csharp"
    }
   },
   "outputs": [
    {
     "name": "stdout",
     "output_type": "stream",
     "text": [
      "Status  Num  Num2  Float   \n",
      "ok      -10  10    0,1     \n",
      "botva   20   -20   -2,5    \n",
      "qwerty  40   40    179,57  \n",
      "\n"
     ]
    }
   ],
   "source": [
    "Console.WriteLine(a[a[\"Num\"] > 0 | a[\"Num2\"] > 0])"
   ]
  },
  {
   "cell_type": "code",
   "execution_count": 17,
   "metadata": {
    "vscode": {
     "languageId": "csharp"
    }
   },
   "outputs": [
    {
     "name": "stdout",
     "output_type": "stream",
     "text": [
      "Status  Num  Num2  Float   \n",
      "qwerty  40   40    179,57  \n",
      "\n"
     ]
    }
   ],
   "source": [
    "Console.WriteLine(a[a[\"Num\"] > 0 & a[\"Num2\"] > 0])"
   ]
  }
 ],
 "metadata": {
  "kernelspec": {
   "display_name": ".NET (C#)",
   "language": "C#",
   "name": ".net-csharp"
  },
  "language_info": {
   "file_extension": ".cs",
   "mimetype": "text/x-csharp",
   "name": "C#",
   "pygments_lexer": "csharp",
   "version": "10.0"
  },
  "orig_nbformat": 4
 },
 "nbformat": 4,
 "nbformat_minor": 2
}
